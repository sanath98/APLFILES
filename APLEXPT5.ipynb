{
 "cells": [
  {
   "cell_type": "code",
   "execution_count": 1,
   "metadata": {},
   "outputs": [
    {
     "data": {
      "text/plain": [
       "4"
      ]
     },
     "execution_count": 1,
     "metadata": {},
     "output_type": "execute_result"
    }
   ],
   "source": [
    "class Point:\n",
    "    def __init__(self, p, q, r):\n",
    "        self.p = p\n",
    "        self.q = q\n",
    "        self.r = r\n",
    "        \n",
    "    def add(self):\n",
    "        self.p =self.q + self.r\n",
    "        return self.p\n",
    "    \n",
    "p = Point(3, 4, 0)\n",
    "p.add()"
   ]
  },
  {
   "cell_type": "code",
   "execution_count": 2,
   "metadata": {},
   "outputs": [
    {
     "data": {
      "text/plain": [
       "17"
      ]
     },
     "execution_count": 2,
     "metadata": {},
     "output_type": "execute_result"
    }
   ],
   "source": [
    "class Point:\n",
    "    def __init__(self, p, q):\n",
    "        self.p = p\n",
    "        self.q = q\n",
    "       \n",
    "    def add(self):\n",
    "        self.p =self.p + self.q\n",
    "        return self.p\n",
    "    \n",
    "p = Point(13, 4)\n",
    "p.add()"
   ]
  },
  {
   "cell_type": "code",
   "execution_count": 3,
   "metadata": {},
   "outputs": [
    {
     "data": {
      "text/plain": [
       "4"
      ]
     },
     "execution_count": 3,
     "metadata": {},
     "output_type": "execute_result"
    }
   ],
   "source": [
    "class Point:\n",
    "    def __init__(self, p, q, r):\n",
    "        self.p = p\n",
    "        self.q = q\n",
    "        self.r = r\n",
    "        \n",
    "    def minus(self):\n",
    "        self.p =self.q - self.r\n",
    "        return self.p\n",
    "    \n",
    "p = Point(13, 4, 0)\n",
    "p.minus()"
   ]
  },
  {
   "cell_type": "code",
   "execution_count": 4,
   "metadata": {},
   "outputs": [
    {
     "data": {
      "text/plain": [
       "9"
      ]
     },
     "execution_count": 4,
     "metadata": {},
     "output_type": "execute_result"
    }
   ],
   "source": [
    "class Point:\n",
    "    def __init__(self, p, q):\n",
    "        self.p = p\n",
    "        self.q = q\n",
    "       \n",
    "    def add(self):\n",
    "        self.p =self.p - self.q\n",
    "        return self.p\n",
    "    \n",
    "p = Point(13, 4)\n",
    "p.add()"
   ]
  },
  {
   "cell_type": "code",
   "execution_count": 5,
   "metadata": {},
   "outputs": [
    {
     "data": {
      "text/plain": [
       "52"
      ]
     },
     "execution_count": 5,
     "metadata": {},
     "output_type": "execute_result"
    }
   ],
   "source": [
    "\n",
    "class Point:\n",
    "    def __init__(self, p, q, n):\n",
    "        self.p = p\n",
    "        self.q = q\n",
    "        self.n = n\n",
    "        \n",
    "    def mul(self):\n",
    "        self.p =self.q * self.n\n",
    "        return self.p\n",
    "    \n",
    "p = Point(0,13, 4)\n",
    "p.mul()"
   ]
  },
  {
   "cell_type": "code",
   "execution_count": 6,
   "metadata": {},
   "outputs": [
    {
     "data": {
      "text/plain": [
       "52"
      ]
     },
     "execution_count": 6,
     "metadata": {},
     "output_type": "execute_result"
    }
   ],
   "source": [
    "class Point:\n",
    "    def __init__(self, p, n):\n",
    "        self.p = p\n",
    "        self.n = n\n",
    "        \n",
    "    def mul(self):\n",
    "        self.p =self.p * self.n\n",
    "        return self.p\n",
    "    \n",
    "p = Point(13, 4)\n",
    "p.mul()"
   ]
  },
  {
   "cell_type": "code",
   "execution_count": 7,
   "metadata": {},
   "outputs": [
    {
     "data": {
      "text/plain": [
       "3.25"
      ]
     },
     "execution_count": 7,
     "metadata": {},
     "output_type": "execute_result"
    }
   ],
   "source": [
    "class Point:\n",
    "    def __init__(self, p, q, n):\n",
    "        self.p = p\n",
    "        self.q = q\n",
    "        self.n = n\n",
    "        \n",
    "    def mul(self):\n",
    "        self.p =self.q / self.n\n",
    "        return self.p\n",
    "    \n",
    "p = Point(0,13, 4)\n",
    "p.mul()\n"
   ]
  },
  {
   "cell_type": "code",
   "execution_count": 8,
   "metadata": {},
   "outputs": [
    {
     "data": {
      "text/plain": [
       "3.25"
      ]
     },
     "execution_count": 8,
     "metadata": {},
     "output_type": "execute_result"
    }
   ],
   "source": [
    "class Point:\n",
    "    def __init__(self, p, n):\n",
    "        self.p = p\n",
    "        self.n = n\n",
    "        \n",
    "    def mul(self):\n",
    "        self.p =self.p / self.n\n",
    "        return self.p\n",
    "    \n",
    "p = Point(13, 4)\n",
    "p.mul()"
   ]
  },
  {
   "cell_type": "code",
   "execution_count": null,
   "metadata": {},
   "outputs": [],
   "source": []
  }
 ],
 "metadata": {
  "kernelspec": {
   "display_name": "Python 3",
   "language": "python",
   "name": "python3"
  },
  "language_info": {
   "codemirror_mode": {
    "name": "ipython",
    "version": 3
   },
   "file_extension": ".py",
   "mimetype": "text/x-python",
   "name": "python",
   "nbconvert_exporter": "python",
   "pygments_lexer": "ipython3",
   "version": "3.8.5"
  }
 },
 "nbformat": 4,
 "nbformat_minor": 4
}
