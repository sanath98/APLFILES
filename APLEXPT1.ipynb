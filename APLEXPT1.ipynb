{
 "cells": [
  {
   "cell_type": "code",
   "execution_count": null,
   "metadata": {},
   "outputs": [
    {
     "name": "stdout",
     "output_type": "stream",
     "text": [
      "Select operation\n",
      "1.sum\n",
      "2.mean\n",
      "3.median\n",
      "4.mode\n",
      "5.quit\n"
     ]
    }
   ],
   "source": [
    " import statistics \n",
    "print(\"Select operation\")\n",
    "print(\"1.sum\")\n",
    "print(\"2.mean\")\n",
    "print(\"3.median\")\n",
    "print(\"4.mode\")\n",
    "print(\"5.quit\")\n",
    "choice=int(input(\"Enter the choice\"))\n",
    "data=[3,3,4,5,6,7]\n",
    "\n",
    "if choice==1:\n",
    "     print(sum(data))\n",
    "\n",
    "elif choice==2:\n",
    "     print(statistics.mean(data))\n",
    "\n",
    "elif choice==3:\n",
    "     print(statistics.median(data))\n",
    "\n",
    "elif choice==4:\n",
    "     print(statistics.mode(data))"
   ]
  },
  {
   "cell_type": "code",
   "execution_count": null,
   "metadata": {},
   "outputs": [],
   "source": []
  },
  {
   "cell_type": "code",
   "execution_count": null,
   "metadata": {},
   "outputs": [],
   "source": []
  },
  {
   "cell_type": "code",
   "execution_count": null,
   "metadata": {},
   "outputs": [],
   "source": []
  }
 ],
 "metadata": {
  "kernelspec": {
   "display_name": "Python 3",
   "language": "python",
   "name": "python3"
  },
  "language_info": {
   "codemirror_mode": {
    "name": "ipython",
    "version": 3
   },
   "file_extension": ".py",
   "mimetype": "text/x-python",
   "name": "python",
   "nbconvert_exporter": "python",
   "pygments_lexer": "ipython3",
   "version": "3.8.5"
  }
 },
 "nbformat": 4,
 "nbformat_minor": 4
}
