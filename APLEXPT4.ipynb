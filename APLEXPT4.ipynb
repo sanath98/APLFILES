{
 "cells": [
  {
   "cell_type": "code",
   "execution_count": 12,
   "metadata": {},
   "outputs": [
    {
     "name": "stdout",
     "output_type": "stream",
     "text": [
      "This is the number of lines in the file is:  4\n"
     ]
    }
   ],
   "source": [
    "filename=\"C:\\\\Users\\\\sanat\\\\Downloads\\\\simple_file\"\n",
    "def  countLines(filename):\n",
    "    file = open(filename,\"r\") \n",
    "    Counter = 0\n",
    "  \n",
    "    # Reading from file \n",
    "    Content = file.read() \n",
    "    CoList = Content.split(\"\\n\") \n",
    "  \n",
    "    for i in CoList: \n",
    "        if i: \n",
    "            Counter += 1\n",
    "          \n",
    "    print(\"This is the number of lines in the file is: \", Counter)\n",
    "\n",
    "countLines(filename)"
   ]
  },
  {
   "cell_type": "code",
   "execution_count": 14,
   "metadata": {},
   "outputs": [
    {
     "name": "stdout",
     "output_type": "stream",
     "text": [
      "Number of characters in text file : 51\n"
     ]
    }
   ],
   "source": [
    "filename=\"C:\\\\Users\\\\sanat\\\\Downloads\\\\simple_file\"\n",
    "def CountChars(filename):\n",
    "    file = open(filename, \"r\")\n",
    "    data = file.read()\n",
    "    number_of_characters = len(data)\n",
    "    print('Number of characters in text file :', number_of_characters)\n",
    "\n",
    "CountChars(filename)"
   ]
  },
  {
   "cell_type": "code",
   "execution_count": 15,
   "metadata": {},
   "outputs": [
    {
     "name": "stdout",
     "output_type": "stream",
     "text": [
      "This is the number of lines in the file is:  4\n",
      "Number of characters in text file : 51\n"
     ]
    }
   ],
   "source": [
    "\n",
    "def AllFunc():\n",
    "    functions = [countLines(filename), CountChars(filename)]\n",
    "\n",
    "AllFunc()"
   ]
  },
  {
   "cell_type": "code",
   "execution_count": null,
   "metadata": {},
   "outputs": [],
   "source": []
  }
 ],
 "metadata": {
  "kernelspec": {
   "display_name": "Python 3",
   "language": "python",
   "name": "python3"
  },
  "language_info": {
   "codemirror_mode": {
    "name": "ipython",
    "version": 3
   },
   "file_extension": ".py",
   "mimetype": "text/x-python",
   "name": "python",
   "nbconvert_exporter": "python",
   "pygments_lexer": "ipython3",
   "version": "3.8.5"
  }
 },
 "nbformat": 4,
 "nbformat_minor": 4
}
