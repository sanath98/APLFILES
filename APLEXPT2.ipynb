{
 "cells": [
  {
   "cell_type": "code",
   "execution_count": 2,
   "metadata": {},
   "outputs": [
    {
     "name": "stdout",
     "output_type": "stream",
     "text": [
      "Enter Customer Name vijay\n",
      "The customer list is:  ['sanath', 'ashok', 'vijay']\n"
     ]
    }
   ],
   "source": [
    "customers_list = ['sanath','ashok'] \n",
    "\n",
    "def add_customer():\n",
    "    customer_name= input('Enter Customer Name ').lower()\n",
    "    customers_list.append(customer_name) \n",
    "    print('The customer list is: ',customers_list)\n",
    "add_customer()"
   ]
  },
  {
   "cell_type": "code",
   "execution_count": 3,
   "metadata": {},
   "outputs": [
    {
     "name": "stdout",
     "output_type": "stream",
     "text": [
      "Enter Customer Name To Remove: vijay\n",
      "After removing the customer name :  ['sanath', 'ashok']\n"
     ]
    }
   ],
   "source": [
    "def del_customer():\n",
    "    customer_name= input('Enter Customer Name To Remove: ').lower()\n",
    "    try: \n",
    "        customers_list.remove(customer_name) \n",
    "        print(\"After removing the customer name : \",customers_list)\n",
    "    except:\n",
    "          print(\"Customer Name not present in the list.Please try another name\")\n",
    "\n",
    "    \n",
    "del_customer()"
   ]
  },
  {
   "cell_type": "code",
   "execution_count": 4,
   "metadata": {},
   "outputs": [
    {
     "name": "stdout",
     "output_type": "stream",
     "text": [
      "Enter Customer name  to check balance: sanath\n",
      "The current balance in sanath's account is: 60000\n",
      "Enter the amount  to deposit  sanath's account 5000\n",
      "{'sanath': 65000, 'ashok': 1000, 'raman': 5000}\n"
     ]
    }
   ],
   "source": [
    "customer_list_balance = {'sanath': 60000, 'ashok': 1000, 'raman': 5000}\n",
    "try:\n",
    "    customer_name = input('Enter Customer name  to check balance: ').lower()\n",
    "    customer_list_balance[customer_name]\n",
    "\n",
    "except KeyError as error:\n",
    "    print(\"Customer not present\")\n",
    "    exit()\n",
    "else:\n",
    "    selected_acc_bal = str(customer_list_balance.get(customer_name))\n",
    "    print(\"The current balance in \" + customer_name + \"'s account is: \" + selected_acc_bal)\n",
    "    amount_deposit = int(input('Enter the amount  to deposit  ' + customer_name + \"'s account \"))\n",
    "    customer_list_balance[customer_name] += amount_deposit\n",
    "    print(customer_list_balance)"
   ]
  },
  {
   "cell_type": "code",
   "execution_count": 5,
   "metadata": {},
   "outputs": [
    {
     "name": "stdout",
     "output_type": "stream",
     "text": [
      "enter customer name you want to check balance: sanath\n",
      "The current balance in sanath's account is: 60000\n",
      "Enter the amount you want to withdraw from sanath's account 5000\n",
      "{'sanath': 55000, 'ashok': 1000, 'raman': 5000}\n"
     ]
    }
   ],
   "source": [
    "customer_list_balance = {'sanath': 60000, 'ashok': 1000, 'raman': 5000}\n",
    "try:\n",
    "    customer_name = input('enter customer name you want to check balance: ').lower()\n",
    "    customer_list_balance[customer_name]\n",
    "\n",
    "except KeyError as error:\n",
    "    print(\"Customer not present\")\n",
    "\n",
    "else:\n",
    "    selected_acc_bal = str(customer_list_balance.get(customer_name))\n",
    "    print(\"The current balance in \" + customer_name + \"'s account is: \" + selected_acc_bal)\n",
    "    amount_deposit = int(input('Enter the amount you want to withdraw  ' + customer_name + \"'s account \"))\n",
    "    if customer_list_balance[customer_name] > amount_deposit:\n",
    "        customer_list_balance[customer_name] -= amount_deposit\n",
    "        print(customer_list_balance)\n",
    "    else:\n",
    "        print(\" LESS Balance\")"
   ]
  },
  {
   "cell_type": "code",
   "execution_count": 6,
   "metadata": {},
   "outputs": [
    {
     "name": "stdout",
     "output_type": "stream",
     "text": [
      "Enter customer name for last 3 transaction: sanath\n",
      "[10000, 12000, 45000]\n"
     ]
    }
   ],
   "source": [
    "data = {'sanath': [5000, 10000,12000,45000], 'ashok': [7500, 60000,8000]}\n",
    "try:\n",
    "    cust_name=input('Enter customer name for last 3 transaction: ').lower()\n",
    "    my_list = data[cust_name]\n",
    "    print(my_list[-3:])\n",
    "except KeyError as error:\n",
    "    print(\" Customer not present\")\n",
    "    exit()\n"
   ]
  },
  {
   "cell_type": "code",
   "execution_count": null,
   "metadata": {},
   "outputs": [],
   "source": []
  }
 ],
 "metadata": {
  "kernelspec": {
   "display_name": "Python 3",
   "language": "python",
   "name": "python3"
  },
  "language_info": {
   "codemirror_mode": {
    "name": "ipython",
    "version": 3
   },
   "file_extension": ".py",
   "mimetype": "text/x-python",
   "name": "python",
   "nbconvert_exporter": "python",
   "pygments_lexer": "ipython3",
   "version": "3.8.5"
  }
 },
 "nbformat": 4,
 "nbformat_minor": 4
}
